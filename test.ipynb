{
 "cells": [
  {
   "cell_type": "code",
   "execution_count": 2,
   "metadata": {},
   "outputs": [
    {
     "name": "stdout",
     "output_type": "stream",
     "text": [
      "Memory usage: 16.00 MB\n"
     ]
    }
   ],
   "source": [
    "wordlist = open(\"words_alpha.txt\", \"r\").read().upper().split(\"\\n\")\n",
    "wordlist = set(wordlist)\n",
    "\n",
    "# mem use\n",
    "import sys\n",
    "print(f\"Memory usage: {sys.getsizeof(wordlist)/1024/1024:.2f} MB\")"
   ]
  },
  {
   "cell_type": "code",
   "execution_count": 3,
   "metadata": {},
   "outputs": [
    {
     "name": "stdout",
     "output_type": "stream",
     "text": [
      "Number of prefixes: 745236\n",
      "Memory usage: 32.00 MB\n"
     ]
    }
   ],
   "source": [
    "prefixes = set()\n",
    "for word in wordlist:\n",
    "\tfor i in range(len(word)):\n",
    "\t\tprefixes.add(word[:i])\n",
    "\n",
    "print(f\"Number of prefixes: {len(prefixes)}\")\n",
    "print(f\"Memory usage: {sys.getsizeof(prefixes)/1024/1024:.2f} MB\")"
   ]
  },
  {
   "cell_type": "code",
   "execution_count": 4,
   "metadata": {},
   "outputs": [],
   "source": [
    "sides = [\n",
    "\t\"CMA\",\n",
    "\t\"HNR\",\n",
    "\t\"IED\",\n",
    "\t\"VOW\",\n",
    "]"
   ]
  },
  {
   "cell_type": "code",
   "execution_count": 5,
   "metadata": {},
   "outputs": [
    {
     "data": {
      "text/plain": [
       "{'C': ['D', 'E', 'H', 'I', 'N', 'O', 'R', 'V', 'W'],\n",
       " 'M': ['D', 'E', 'H', 'I', 'N', 'O', 'R', 'V', 'W'],\n",
       " 'A': ['D', 'E', 'H', 'I', 'N', 'O', 'R', 'V', 'W'],\n",
       " 'H': ['A', 'C', 'D', 'E', 'I', 'M', 'O', 'V', 'W'],\n",
       " 'N': ['A', 'C', 'D', 'E', 'I', 'M', 'O', 'V', 'W'],\n",
       " 'R': ['A', 'C', 'D', 'E', 'I', 'M', 'O', 'V', 'W'],\n",
       " 'I': ['A', 'C', 'H', 'M', 'N', 'O', 'R', 'V', 'W'],\n",
       " 'E': ['A', 'C', 'H', 'M', 'N', 'O', 'R', 'V', 'W'],\n",
       " 'D': ['A', 'C', 'H', 'M', 'N', 'O', 'R', 'V', 'W'],\n",
       " 'V': ['A', 'C', 'D', 'E', 'H', 'I', 'M', 'N', 'R'],\n",
       " 'O': ['A', 'C', 'D', 'E', 'H', 'I', 'M', 'N', 'R'],\n",
       " 'W': ['A', 'C', 'D', 'E', 'H', 'I', 'M', 'N', 'R']}"
      ]
     },
     "execution_count": 5,
     "metadata": {},
     "output_type": "execute_result"
    }
   ],
   "source": [
    "next_states = {}\n",
    "for i, side in enumerate(sides):\n",
    "\trest = [item for sublist in sides[:i] + sides[i+1:] for item in sublist]\n",
    "\trest.sort()\n",
    "\tfor letter in side:\n",
    "\t\tnext_states[letter] = rest\n",
    "next_states"
   ]
  },
  {
   "cell_type": "code",
   "execution_count": 6,
   "metadata": {},
   "outputs": [],
   "source": [
    "# get all valid words\n",
    "valid_words = []\n",
    "\n",
    "# dfs\n",
    "def dfs(word):\n",
    "\t# print('checking', word)\n",
    "\tif word in wordlist:\n",
    "\t\t# print('found', word)\n",
    "\t\tvalid_words.append(word)\n",
    "\tif word in prefixes:\n",
    "\t\tfor letter in next_states[word[-1]]:\n",
    "\t\t\tdfs(word + letter)\n",
    "\n",
    "for letter in next_states:\n",
    "\tdfs(letter)\n",
    "\n",
    "# remove short words (<3)\n",
    "valid_words = [word for word in valid_words if len(word) >= 3]"
   ]
  },
  {
   "cell_type": "code",
   "execution_count": 7,
   "metadata": {},
   "outputs": [
    {
     "name": "stdout",
     "output_type": "stream",
     "text": [
      "Number of valid words: 2356\n"
     ]
    }
   ],
   "source": [
    "print(f\"Number of valid words: {len(valid_words)}\")"
   ]
  },
  {
   "cell_type": "code",
   "execution_count": 8,
   "metadata": {},
   "outputs": [],
   "source": [
    "starting_with = {}\n",
    "ending_with = {}\n",
    "for word in valid_words:\n",
    "\tif word[0] not in starting_with:\n",
    "\t\tstarting_with[word[0]] = []\n",
    "\tstarting_with[word[0]].append(word)\n",
    "\n",
    "\tif word[-1] not in ending_with:\n",
    "\t\tending_with[word[-1]] = []\n",
    "\tending_with[word[-1]].append(word)\n",
    "\n",
    "# sort by length\n",
    "for letter in starting_with:\n",
    "\tstarting_with[letter].sort(key=lambda x: len(x), reverse=True)\n",
    "for letter in ending_with:\n",
    "\tending_with[letter].sort(key=lambda x: len(x), reverse=True)"
   ]
  },
  {
   "cell_type": "code",
   "execution_count": 9,
   "metadata": {},
   "outputs": [
    {
     "name": "stdout",
     "output_type": "stream",
     "text": [
      "found ['CHONDRIOMERE', 'ENWEAVE'] \n",
      "found ['CHAIRWARMER', 'RAVENDOM'] \n",
      "found ['CHONDRIOME', 'ENWEAVE'] \n",
      "found ['CHAWDRON', 'NEVERMIND'] \n",
      "found ['MORDVINIAN', 'NEWICHAWANOC'] \n",
      "found ['MICROINCH', 'HIVEWARD'] \n",
      "found ['MICROINCH', 'HAVENWARD'] \n",
      "found ['MICROINCH', 'HEAVENWARD'] \n",
      "found ['MINERVIC', 'CHAWDRON'] \n",
      "found ['MONDAINE', 'EVERWHICH'] \n",
      "found ['MONARCH', 'HIVEWARD'] \n",
      "found ['MONONCH', 'HIVEWARD'] \n",
      "found ['MORDVIN', 'NEWICHAWANOC'] \n",
      "found ['ARCHMONARCH', 'HIVEWARD'] \n",
      "found ['ADMIRANCE', 'EVERWHO'] \n",
      "found ['HAIRWEAVER', 'RICHMOND'] \n",
      "found ['HEAVENWARD', 'DOMIC'] \n",
      "found ['HEAVENWARD', 'DROMIC'] \n",
      "found ['HEAVENWARD', 'DORMICE'] \n",
      "found ['HEAVENWARD', 'DOMINIC'] \n",
      "found ['HEAVENWARD', 'DROMICIA'] \n",
      "found ['HEAVENWARD', 'DAIMONIC'] \n",
      "found ['HEAVENWARD', 'DAEMONIC'] \n",
      "found ['HEAVENWARD', 'DOMINANCE'] \n",
      "found ['HAVENWARD', 'DOMIC'] \n",
      "found ['HAVENWARD', 'DROMIC'] \n",
      "found ['HAVENWARD', 'DORMICE'] \n",
      "found ['HAVENWARD', 'DOMINIC'] \n",
      "found ['HAVENWARD', 'DROMICIA'] \n",
      "found ['HAVENWARD', 'DAIMONIC'] \n",
      "found ['HAVENWARD', 'DAEMONIC'] \n",
      "found ['HAVENWARD', 'DOMINANCE'] \n",
      "found ['HIVEWARD', 'DOMINIC'] \n",
      "found ['HIVEWARD', 'DAIMONIC'] \n",
      "found ['HIVEWARD', 'DAEMONIC'] \n",
      "found ['HIVEWARD', 'DOMINANCE'] \n",
      "found ['NONDOMINANCE', 'EVERWHO'] \n",
      "found ['NONDOMINANCE', 'EVERWHICH'] \n",
      "found ['NONWAIVER', 'RICHDOM'] \n",
      "found ['NONWAIVER', 'RICHMOND'] \n",
      "found ['EVERWHICH', 'HADROMERINA'] \n",
      "found ['EVERWHICH', 'HARMONICHORD'] \n",
      "found ['DOMINANCE', 'EVERWHO'] \n",
      "found ['DOMINANCE', 'EVERWHICH'] \n",
      "found ['DOMINAE', 'EVERWHICH'] \n",
      "found ['VIREMIC', 'CHAWDRON'] \n",
      "found ['VEHMIC', 'CORDWAIN'] \n",
      "found ['VEHMIC', 'CHAWDRON'] \n",
      "found ['VEHMIC', 'CORDWAINER'] \n",
      "found ['ORCHARDMEN', 'NONWAIVER'] \n",
      "found ['OMNIARCH', 'HIVEWARD'] \n",
      "found ['OMNIARCH', 'HAVENWARD'] \n",
      "found ['OMNIARCH', 'HEAVENWARD'] \n",
      "found ['WHICHEVER', 'RANDOM'] \n",
      "found ['WHICHEVER', 'RAVENDOM'] \n",
      "found ['WAVERER', 'RICHMOND'] \n",
      "found ['WINCHER', 'RAVENDOM'] \n",
      "found ['WAIVER', 'RICHMOND'] \n",
      "found ['WAVIRA', 'ANEMOCHORD'] \n",
      "found ['WEAVER', 'RICHMOND'] \n",
      "found ['WAVER', 'RICHMOND'] \n",
      "Number of valid chains: 61\n"
     ]
    }
   ],
   "source": [
    "# chaining together words end to end, exhausting all letters\n",
    "\n",
    "valid_chains = []\n",
    "max_chain_length = 2\n",
    "\n",
    "# use stack instead of recursion\n",
    "def chain_dfs(chain, letter_mask):\n",
    "\tstack = [(chain, letter_mask)]\n",
    "\twhile stack:\n",
    "\t\tchain, letter_mask = stack.pop()\n",
    "\n",
    "\t\tletters_needed = [letter for letter, done in letter_mask.items() if not done]\n",
    "\n",
    "\t\t# print('checking', chain, \"\".join(letter_mask.keys()))\n",
    "\t\tif all(letter_mask.values()):\n",
    "\t\t\tprint('found', chain, \"\".join(letters_needed))\n",
    "\t\t\tvalid_chains.append(chain)\n",
    "\t\t\tcontinue\n",
    "\t\t\n",
    "\t\tif len(chain) >= max_chain_length:\n",
    "\t\t\tcontinue\n",
    "\n",
    "\t\tfor word in starting_with[chain[-1][-1]]:\n",
    "\t\t\tnew_letter_mask = letter_mask.copy()\n",
    "\t\t\tfor letter in word:\n",
    "\t\t\t\tnew_letter_mask[letter] = True\n",
    "\t\t\tstack.append((chain + [word], new_letter_mask))\n",
    "\n",
    "letter_mask = {}\n",
    "for letter in next_states:\n",
    "\tletter_mask[letter] = False\n",
    "\n",
    "for letter in next_states:\n",
    "\tfor word in starting_with[letter]:\n",
    "\t\tnew_letter_mask = letter_mask.copy()\n",
    "\t\tfor letter in word:\n",
    "\t\t\tnew_letter_mask[letter] = True\n",
    "\t\tchain_dfs([word], new_letter_mask)\n",
    "\n",
    "print(f\"Number of valid chains: {len(valid_chains)}\")"
   ]
  }
 ],
 "metadata": {
  "kernelspec": {
   "display_name": "main",
   "language": "python",
   "name": "python3"
  },
  "language_info": {
   "codemirror_mode": {
    "name": "ipython",
    "version": 3
   },
   "file_extension": ".py",
   "mimetype": "text/x-python",
   "name": "python",
   "nbconvert_exporter": "python",
   "pygments_lexer": "ipython3",
   "version": "3.12.7"
  }
 },
 "nbformat": 4,
 "nbformat_minor": 2
}
